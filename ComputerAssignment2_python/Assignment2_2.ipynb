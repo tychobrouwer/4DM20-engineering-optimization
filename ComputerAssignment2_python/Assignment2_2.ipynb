{
 "cells": [
  {
   "cell_type": "code",
   "execution_count": null,
   "id": "cee6511a-fcaf-4709-b494-8dacfde34d85",
   "metadata": {},
   "outputs": [],
   "source": [
    "# Exercise 2: Linear Programming"
   ]
  },
  {
   "cell_type": "code",
   "execution_count": null,
   "id": "b23c7922",
   "metadata": {},
   "outputs": [],
   "source": [
    "import cvxpy as cp\n",
    "import numpy as np\n",
    "import matplotlib.pyplot as plt\n",
    "\n",
    "plt.rcParams['text.usetex'] = True"
   ]
  },
  {
   "cell_type": "code",
   "execution_count": null,
   "id": "d676ca3c-fb56-4e19-9445-19bf2f60f0e4",
   "metadata": {},
   "outputs": [],
   "source": [
    "# Clear YALMIP variables (not applicable in cvxpy)\n",
    "\n",
    "# Optimization variables\n",
    "##### Complete code here #####\n",
    "x1 = ...\n",
    "x2 = ...\n",
    "##########\n",
    "\n",
    "# Define constraints\n",
    "##### Complete code here #####\n",
    "constraints = [ ... ]\n",
    "##########\n",
    "\n",
    "# Define objective\n",
    "##### Complete code here #####\n",
    "objective = ...\n",
    "##########\n",
    "\n",
    "# Solve problem\n",
    "problem = cp.Problem(cp.Minimize(objective), constraints)\n",
    "problem.solve(solver=cp.ECOS, verbose=True)\n",
    "\n",
    "# Print optimal values of x1 and x2\n",
    "print(\"Optimal value of x1, Rubiks Cubes\", x1.value)\n",
    "print(\"Optimal value of x2, Toy Cars:\", x2.value)\n",
    "\n",
    "# Plotting\n",
    "x1vector = np.arange(0, 21, 1)\n",
    "x2vector = np.arange(0, 21, 1)\n",
    "\n",
    "plt.figure()\n",
    "# Objective function contour\n",
    "fx=plt.contour(x1vector, x2vector, 8 * x1vector[:, np.newaxis] + 5 * x2vector[np.newaxis, :], levels=np.arange(0, 201, 25), linestyles='--', colors='b')\n",
    "plt.clabel(fx, inline=1, fontsize=10) #Places values of f at the lines\n",
    "# Constraint plots\n",
    "plt.plot(x1vector, (60 - 5 * x1vector) / 3, 'orange', label='Painting', zorder=1)\n",
    "plt.plot(x1vector, (120 - 4 * x1vector) / 5, 'grey', label='Casting', zorder=1)\n",
    "plt.plot([0, 20], [15, 15], 'green', label='Assembling', zorder=1)\n",
    "# Optimal point\n",
    "plt.scatter(x1.value, x2.value, color='r', marker='*', s=200, label='Optimum', zorder=2)\n",
    "plt.xlim([0, 20])\n",
    "plt.ylim([0, 20])\n",
    "plt.xlabel('$x_1$ (Rubiks Cube)')\n",
    "plt.ylabel('$x_2$ (Toy Cars)')\n",
    "plt.title('Optimization Result')\n",
    "plt.legend(loc='upper right')\n",
    "plt.grid(True)\n",
    "plt.show()\n"
   ]
  },
  {
   "cell_type": "code",
   "execution_count": null,
   "id": "905056c0-53fb-4484-889f-4c2e4b9ae614",
   "metadata": {},
   "outputs": [],
   "source": []
  }
 ],
 "metadata": {
  "kernelspec": {
   "display_name": ".venv",
   "language": "python",
   "name": "python3"
  },
  "language_info": {
   "codemirror_mode": {
    "name": "ipython",
    "version": 3
   },
   "file_extension": ".py",
   "mimetype": "text/x-python",
   "name": "python",
   "nbconvert_exporter": "python",
   "pygments_lexer": "ipython3",
   "version": "3.10.8"
  }
 },
 "nbformat": 4,
 "nbformat_minor": 5
}
