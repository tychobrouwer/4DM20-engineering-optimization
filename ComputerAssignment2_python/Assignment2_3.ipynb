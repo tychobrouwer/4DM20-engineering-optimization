{
 "cells": [
  {
   "cell_type": "code",
   "execution_count": null,
   "id": "7adb33dc-0fdd-41b5-914a-e65dfba8202f",
   "metadata": {},
   "outputs": [],
   "source": [
    "# Exercise 3: Quadratic Programming"
   ]
  },
  {
   "cell_type": "code",
   "execution_count": null,
   "id": "f16e726a",
   "metadata": {},
   "outputs": [],
   "source": [
    "import cvxpy as cp\n",
    "import numpy as np\n",
    "import matplotlib.pyplot as plt\n",
    "\n",
    "plt.rcParams['text.usetex'] = True"
   ]
  },
  {
   "cell_type": "code",
   "execution_count": null,
   "id": "384e35b5-ae4a-43aa-906d-621e16b79edc",
   "metadata": {},
   "outputs": [],
   "source": [
    "# Optimization variables\n",
    "##### Complete code here #####\n",
    "x1 = ...\n",
    "x2 = ...\n",
    "##########\n",
    "\n",
    "# Define constraints\n",
    "##### Complete code here #####\n",
    "constraints = [\n",
    "    ... ]\n",
    "##########\n",
    "\n",
    "# Define objective\n",
    "##### Complete code here #####\n",
    "objective = ...\n",
    "##########\n",
    "\n",
    "# Solve problem\n",
    "problem = cp.Problem(cp.Minimize(objective), constraints)\n",
    "problem.solve(solver=cp.ECOS, verbose=True)\n",
    "\n",
    "# Print optimal values of x1 and x2\n",
    "print(\"Optimal value of x1:\", x1.value)\n",
    "print(\"Optimal value of x2:\", x2.value)\n",
    "\n",
    "# Plotting\n",
    "x1vector = np.arange(0, 10.5, 0.5)\n",
    "x2vector = np.arange(0, 10.5, 0.5)\n",
    "X1, X2 = np.meshgrid(x1vector, x2vector)\n",
    "Z = (X1-4)**2+(X2-4)**2\n",
    "\n",
    "plt.figure()\n",
    "# Objective function contour\n",
    "fx=plt.contour(X1, X2, Z, levels=np.arange(0, 10.5, 1), linestyles='--', colors='grey')\n",
    "plt.clabel(fx, inline=1, fontsize=10) #Places values of f at the lines\n",
    "plt.plot(x1vector, 5 - x1vector / 2, 'green', label='$g_1(x)$', zorder=1)\n",
    "plt.plot(x1vector, 7 * x1vector - 15, 'b', label='$g_2(x)$', zorder=1)\n",
    "# Optimal point\n",
    "plt.scatter(x1.value, x2.value, color='r', marker='*', s=200, label='$x^*$', zorder=2)\n",
    "plt.xlim([2, 5])\n",
    "plt.ylim([3, 6])\n",
    "plt.xlabel('$x_1$')\n",
    "plt.ylabel('$x_2$')\n",
    "plt.title('Optimization Result')\n",
    "plt.legend()\n",
    "plt.grid(True)\n",
    "plt.show()\n"
   ]
  }
 ],
 "metadata": {
  "kernelspec": {
   "display_name": ".venv",
   "language": "python",
   "name": "python3"
  },
  "language_info": {
   "codemirror_mode": {
    "name": "ipython",
    "version": 3
   },
   "file_extension": ".py",
   "mimetype": "text/x-python",
   "name": "python",
   "nbconvert_exporter": "python",
   "pygments_lexer": "ipython3",
   "version": "3.10.8"
  }
 },
 "nbformat": 4,
 "nbformat_minor": 5
}
